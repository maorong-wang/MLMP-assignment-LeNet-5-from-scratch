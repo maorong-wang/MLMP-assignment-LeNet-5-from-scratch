{
  "nbformat": 4,
  "nbformat_minor": 0,
  "metadata": {
    "colab": {
      "provenance": []
    },
    "kernelspec": {
      "name": "python3",
      "display_name": "Python 3"
    },
    "language_info": {
      "name": "python"
    },
    "gpuClass": "standard"
  },
  "cells": [
    {
      "cell_type": "markdown",
      "source": [
        "# LeNet-5 from scratch\n",
        "Here's the hardware used to train the model. Please note that the training might be slow due to the fact that this code is implemented w/o GPU acceleration.\n",
        "\n"
      ],
      "metadata": {
        "id": "yxOSQQnURfbi"
      }
    },
    {
      "cell_type": "code",
      "source": [
        "!lscpu"
      ],
      "metadata": {
        "colab": {
          "base_uri": "https://localhost:8080/"
        },
        "id": "hmFJV_gKRmw9",
        "outputId": "82abebc6-a4f7-480d-8b2d-a695e35be994"
      },
      "execution_count": null,
      "outputs": [
        {
          "output_type": "stream",
          "name": "stdout",
          "text": [
            "Architecture:                    x86_64\n",
            "CPU op-mode(s):                  32-bit, 64-bit\n",
            "Byte Order:                      Little Endian\n",
            "Address sizes:                   46 bits physical, 48 bits virtual\n",
            "CPU(s):                          2\n",
            "On-line CPU(s) list:             0,1\n",
            "Thread(s) per core:              2\n",
            "Core(s) per socket:              1\n",
            "Socket(s):                       1\n",
            "NUMA node(s):                    1\n",
            "Vendor ID:                       GenuineIntel\n",
            "CPU family:                      6\n",
            "Model:                           79\n",
            "Model name:                      Intel(R) Xeon(R) CPU @ 2.20GHz\n",
            "Stepping:                        0\n",
            "CPU MHz:                         2199.998\n",
            "BogoMIPS:                        4399.99\n",
            "Hypervisor vendor:               KVM\n",
            "Virtualization type:             full\n",
            "L1d cache:                       32 KiB\n",
            "L1i cache:                       32 KiB\n",
            "L2 cache:                        256 KiB\n",
            "L3 cache:                        55 MiB\n",
            "NUMA node0 CPU(s):               0,1\n",
            "Vulnerability Itlb multihit:     Not affected\n",
            "Vulnerability L1tf:              Mitigation; PTE Inversion\n",
            "Vulnerability Mds:               Vulnerable; SMT Host state unknown\n",
            "Vulnerability Meltdown:          Vulnerable\n",
            "Vulnerability Mmio stale data:   Vulnerable\n",
            "Vulnerability Retbleed:          Vulnerable\n",
            "Vulnerability Spec store bypass: Vulnerable\n",
            "Vulnerability Spectre v1:        Vulnerable: __user pointer sanitization and use\n",
            "                                 rcopy barriers only; no swapgs barriers\n",
            "Vulnerability Spectre v2:        Vulnerable, IBPB: disabled, STIBP: disabled, PB\n",
            "                                 RSB-eIBRS: Not affected\n",
            "Vulnerability Srbds:             Not affected\n",
            "Vulnerability Tsx async abort:   Vulnerable\n",
            "Flags:                           fpu vme de pse tsc msr pae mce cx8 apic sep mtr\n",
            "                                 r pge mca cmov pat pse36 clflush mmx fxsr sse s\n",
            "                                 se2 ss ht syscall nx pdpe1gb rdtscp lm constant\n",
            "                                 _tsc rep_good nopl xtopology nonstop_tsc cpuid \n",
            "                                 tsc_known_freq pni pclmulqdq ssse3 fma cx16 pci\n",
            "                                 d sse4_1 sse4_2 x2apic movbe popcnt aes xsave a\n",
            "                                 vx f16c rdrand hypervisor lahf_lm abm 3dnowpref\n",
            "                                 etch invpcid_single ssbd ibrs ibpb stibp fsgsba\n",
            "                                 se tsc_adjust bmi1 hle avx2 smep bmi2 erms invp\n",
            "                                 cid rtm rdseed adx smap xsaveopt arat md_clear \n",
            "                                 arch_capabilities\n"
          ]
        }
      ]
    },
    {
      "cell_type": "markdown",
      "source": [
        "# Import dependencies"
      ],
      "metadata": {
        "id": "_pjxkzC_1eoD"
      }
    },
    {
      "cell_type": "code",
      "execution_count": null,
      "metadata": {
        "id": "o3lARpKJxGvz"
      },
      "outputs": [],
      "source": [
        "import numpy as np\n",
        "import tqdm\n",
        "import struct\n",
        "import random\n",
        "import matplotlib.pyplot as plt\n",
        "from keras.datasets import mnist"
      ]
    },
    {
      "cell_type": "markdown",
      "source": [
        "# Data Preparation\n",
        "We use a MNIST dataset distribution from keras here."
      ],
      "metadata": {
        "id": "8UFPPK46Fsaj"
      }
    },
    {
      "cell_type": "code",
      "source": [
        "(train_data, train_label), (test_data, test_label) = mnist.load_data()\n",
        "print (\"MNIST data loaded\")\n",
        "print (\"Training data shape:\",train_data.shape)\n",
        "print (\"Test data shape:\",test_data.shape)"
      ],
      "metadata": {
        "colab": {
          "base_uri": "https://localhost:8080/"
        },
        "id": "Yd-LWa2DxK60",
        "outputId": "fa4b4b81-ace3-4c8c-a9f4-e41dd1a8b6e1"
      },
      "execution_count": null,
      "outputs": [
        {
          "output_type": "stream",
          "name": "stdout",
          "text": [
            "Downloading data from https://storage.googleapis.com/tensorflow/tf-keras-datasets/mnist.npz\n",
            "11490434/11490434 [==============================] - 0s 0us/step\n",
            "MNIST data loaded\n",
            "Training data shape: (60000, 28, 28)\n",
            "Test data shape: (10000, 28, 28)\n"
          ]
        }
      ]
    },
    {
      "cell_type": "markdown",
      "source": [
        "Normalize the dataset with the mean value and standard deviation of the training set."
      ],
      "metadata": {
        "id": "IOiy_yb7P_KM"
      }
    },
    {
      "cell_type": "code",
      "source": [
        "mean = np.mean(train_data)\n",
        "std = np.std(train_data)\n",
        "\n",
        "train_data = (train_data - mean) / std\n",
        "test_data = (test_data - mean) / std"
      ],
      "metadata": {
        "id": "bo86LKYRPuaz"
      },
      "execution_count": null,
      "outputs": []
    },
    {
      "cell_type": "markdown",
      "source": [
        "# Code up net layers\n",
        "\n",
        "Here's the implementation of network layers.\n",
        "\n",
        "Please note that all tensors are of (N, C, H, W) manner."
      ],
      "metadata": {
        "id": "zpyap_sz1WsJ"
      }
    },
    {
      "cell_type": "code",
      "source": [
        "class Conv():\n",
        "    def __init__(self, in_ch, out_ch, kernel_size, padding=0, bias=True):\n",
        "        self.in_ch = in_ch\n",
        "        self.out_ch = out_ch\n",
        "        self.kernel_size = kernel_size\n",
        "        self.weight = {'val': np.random.normal(0.0,np.sqrt(2/in_ch),(out_ch,in_ch,kernel_size,kernel_size)), 'grad': 0} # Xavier Initialization\n",
        "        self.b = {'val': np.random.randn(out_ch), 'grad': 0}\n",
        "        self.cache = None\n",
        "        self.pad = padding\n",
        "\n",
        "    def _forward(self, X):\n",
        "        X = np.pad(X, ((0,0),(0,0),(self.pad,self.pad),(self.pad,self.pad)), 'constant')\n",
        "        (N, in_ch, H, W) = X.shape\n",
        "        H_ = H - self.kernel_size + 1\n",
        "        W_ = W - self.kernel_size + 1\n",
        "        Y = np.zeros((N, self.out_ch, H_, W_))\n",
        "\n",
        "        for n in range(N):\n",
        "            for c in range(self.out_ch):\n",
        "                for h in range(H_):\n",
        "                    for w in range(W_):\n",
        "                        Y[n, c, h, w] = np.sum(X[n, :, h:h+self.kernel_size, w:w+self.kernel_size] * self.weight['val'][c, :, :, :]) + self.b['val'][c]\n",
        "\n",
        "        self.cache = X\n",
        "        return Y\n",
        "\n",
        "    def _backward(self, dout):\n",
        "        X = self.cache\n",
        "        (N, in_ch, H, W) = X.shape\n",
        "        H_ = H - self.kernel_size + 1\n",
        "        W_ = W - self.kernel_size + 1\n",
        "        W_rot = np.rot90(np.rot90(self.weight['val']))\n",
        "\n",
        "        dX = np.zeros(X.shape)\n",
        "        dW = np.zeros(self.weight['val'].shape)\n",
        "        db = np.zeros(self.b['val'].shape)\n",
        "\n",
        "        for co in range(self.out_ch):\n",
        "            for ci in range(self.in_ch):\n",
        "                for h in range(self.kernel_size):\n",
        "                    for w in range(self.kernel_size):\n",
        "                        dW[co, ci, h, w] = np.sum(X[:,ci,h:h+H_,w:w+W_] * dout[:,co,:,:])\n",
        "\n",
        "        for co in range(self.out_ch):\n",
        "            db[co] = np.sum(dout[:,co,:,:])\n",
        "        dout_pad = np.pad(dout, ((0,0),(0,0),(self.kernel_size,self.kernel_size),(self.kernel_size,self.kernel_size)), 'constant')\n",
        "\n",
        "\n",
        "        for n in range(N):\n",
        "            for ci in range(self.in_ch):\n",
        "                for h in range(H):\n",
        "                    for w in range(W):\n",
        "                        dX[n, ci, h, w] = np.sum(W_rot[:,ci,:,:] * dout_pad[n, :, h:h+self.kernel_size,w:w+self.kernel_size])\n",
        "\n",
        "        self.weight['grad'] = dW\n",
        "        self.b['grad'] = db\n",
        "\n",
        "        return dX"
      ],
      "metadata": {
        "id": "qHHh642l1czX"
      },
      "execution_count": null,
      "outputs": []
    },
    {
      "cell_type": "code",
      "source": [
        "class MaxPool():\n",
        "    def __init__(self, kernel_size):\n",
        "        self.kernel_size = kernel_size\n",
        "        self.cache = None\n",
        "\n",
        "    def _forward(self, X):\n",
        "        (N,in_ch,H,W) = X.shape\n",
        "        kernel_size = self.kernel_size\n",
        "        W_ = int(float(W)/kernel_size)\n",
        "        H_ = int(float(H)/kernel_size)\n",
        "        Y = np.zeros((N,in_ch,W_,H_))\n",
        "        M = np.zeros(X.shape) \n",
        "        for n in range(N):\n",
        "            for cin in range(in_ch):\n",
        "                for w_ in range(W_):\n",
        "                    for h_ in range(H_):\n",
        "                        Y[n,cin,w_,h_] = np.max(X[n,cin,kernel_size*w_:kernel_size*(w_+1),kernel_size*h_:kernel_size*(h_+1)])\n",
        "                        i,j = np.unravel_index(X[n,cin,kernel_size*w_:kernel_size*(w_+1),kernel_size*h_:kernel_size*(h_+1)].argmax(), (kernel_size,kernel_size))\n",
        "                        M[n,cin,kernel_size*w_+i,kernel_size*h_+j] = 1\n",
        "        self.cache = M\n",
        "        return Y\n",
        "\n",
        "    def _backward(self, dout):\n",
        "        M = self.cache\n",
        "        (N,in_ch,H,W) = M.shape\n",
        "        dout = np.array(dout)\n",
        "        dX = np.zeros(M.shape)\n",
        "        for n in range(N):\n",
        "            for c in range(in_ch):\n",
        "                dX[n,c,:,:] = dout[n,c,:,:].repeat(2, axis=0).repeat(2, axis=1)\n",
        "        return dX*M"
      ],
      "metadata": {
        "id": "Vz1M9Kh-2DAp"
      },
      "execution_count": null,
      "outputs": []
    },
    {
      "cell_type": "code",
      "source": [
        "class ReLU():\n",
        "    def __init__(self):\n",
        "        self.cache = None\n",
        "\n",
        "    def _forward(self, X):\n",
        "        out = np.maximum(0, X)\n",
        "        self.cache = X\n",
        "        return out\n",
        "\n",
        "    def _backward(self, dout):\n",
        "        X = self.cache\n",
        "        dX = np.array(dout, copy=True)\n",
        "        dX[X <= 0] = 0\n",
        "        return dX"
      ],
      "metadata": {
        "id": "mutCvKCZ2Nmv"
      },
      "execution_count": null,
      "outputs": []
    },
    {
      "cell_type": "code",
      "source": [
        "class FC():\n",
        "    def __init__(self, D_in, D_out):\n",
        "        self.cache = None\n",
        "        self.weight = {'val': np.random.normal(0.0, np.sqrt(2/D_in), (D_in,D_out)), 'grad': 0}\n",
        "        self.b = {'val': np.random.randn(D_out), 'grad': 0}\n",
        "\n",
        "    def _forward(self, X):\n",
        "        out = np.dot(X, self.weight['val']) + self.b['val']\n",
        "        self.cache = X\n",
        "        return out\n",
        "\n",
        "    def _backward(self, dout):\n",
        "        X = self.cache\n",
        "        dX = np.dot(dout, self.weight['val'].T).reshape(X.shape)\n",
        "        self.weight['grad'] = np.dot(X.reshape(X.shape[0], np.prod(X.shape[1:])).T, dout)\n",
        "        self.b['grad'] = np.sum(dout, axis=0)\n",
        "        return dX"
      ],
      "metadata": {
        "id": "yiOJ9tMj2UaT"
      },
      "execution_count": null,
      "outputs": []
    },
    {
      "cell_type": "markdown",
      "source": [
        "##Optimizer and loss function\n",
        "This is an implementation of stochastic gradient descent optimizer."
      ],
      "metadata": {
        "id": "Nhsc4zrPQaEG"
      }
    },
    {
      "cell_type": "code",
      "source": [
        "class SGD():\n",
        "    def __init__(self, params, lr=0.001, weight_decay=0):\n",
        "        self.parameters = params\n",
        "        self.lr = lr\n",
        "        self.weight_decay = weight_decay\n",
        "\n",
        "    def step(self):\n",
        "        for param in self.parameters:\n",
        "            param['val'] -= (self.lr*param['grad'] + self.weight_decay*param['val'])\n"
      ],
      "metadata": {
        "id": "wLaMKPPA2c5l"
      },
      "execution_count": null,
      "outputs": []
    },
    {
      "cell_type": "markdown",
      "source": [
        "Here is an implementation of Cross entropy loss."
      ],
      "metadata": {
        "id": "5Ab9IJDG_QjA"
      }
    },
    {
      "cell_type": "code",
      "source": [
        "class Softmax():\n",
        "    def __init__(self):\n",
        "        self.cache = None\n",
        "\n",
        "    def _forward(self, X):\n",
        "        maxes = np.amax(X, axis=1)\n",
        "        maxes = maxes.reshape(maxes.shape[0], 1)\n",
        "        Y = np.exp(X - maxes)\n",
        "        Z = Y / np.sum(Y, axis=1).reshape(Y.shape[0], 1)\n",
        "        self.cache = (X, Y, Z)\n",
        "        return Z\n",
        "\n",
        "    def _backward(self, dout):\n",
        "        X, Y, Z = self.cache\n",
        "        dZ = np.zeros(X.shape)\n",
        "        dY = np.zeros(X.shape)\n",
        "        dX = np.zeros(X.shape)\n",
        "        N = X.shape[0]\n",
        "        for n in range(N):\n",
        "            i = np.argmax(Z[n])\n",
        "            dZ[n,:] = np.diag(Z[n]) - np.outer(Z[n],Z[n])\n",
        "            M = np.zeros((N,N))\n",
        "            M[:,i] = 1\n",
        "            dY[n,:] = np.eye(N) - M\n",
        "        dX = np.dot(dout,dZ)\n",
        "        dX = np.dot(dX,dY)\n",
        "        return dX"
      ],
      "metadata": {
        "id": "v5VP3ogX3PX-"
      },
      "execution_count": null,
      "outputs": []
    },
    {
      "cell_type": "code",
      "source": [
        "def NLLLoss(Y_pred, Y_true):\n",
        "    loss = 0.0\n",
        "    N = Y_pred.shape[0]\n",
        "    M = np.sum(Y_pred*Y_true, axis=1)\n",
        "    for e in M:\n",
        "        #print(e)\n",
        "        if e == 0:\n",
        "            loss += 500\n",
        "        else:\n",
        "            loss += -np.log(e)\n",
        "    return loss/N"
      ],
      "metadata": {
        "id": "AW5OYYo93TBQ"
      },
      "execution_count": null,
      "outputs": []
    },
    {
      "cell_type": "code",
      "source": [
        "class CrossEntropyLoss():\n",
        "    def __init__(self):\n",
        "        pass\n",
        "\n",
        "    def get(self, Y_pred, Y_true):\n",
        "        N = Y_pred.shape[0]\n",
        "        softmax = Softmax()\n",
        "        prob = softmax._forward(Y_pred)\n",
        "        loss = NLLLoss(prob, Y_true)\n",
        "        Y_serial = np.argmax(Y_true, axis=1)\n",
        "        dout = prob.copy()\n",
        "        dout[np.arange(N), Y_serial] -= 1\n",
        "        return loss, dout"
      ],
      "metadata": {
        "id": "7c-KXp-63Hlg"
      },
      "execution_count": null,
      "outputs": []
    },
    {
      "cell_type": "markdown",
      "source": [
        "Helper functions."
      ],
      "metadata": {
        "id": "cbLm3Ts0_dZ6"
      }
    },
    {
      "cell_type": "code",
      "source": [
        "def MakeOneHot(Y, D_out):\n",
        "    N = Y.shape[0]\n",
        "    Z = np.zeros((N, D_out))\n",
        "    Z[np.arange(N), Y] = 1\n",
        "    return Z"
      ],
      "metadata": {
        "id": "GgUPG9HV36At"
      },
      "execution_count": null,
      "outputs": []
    },
    {
      "cell_type": "code",
      "source": [
        "class AverageMeter():\n",
        "    def __init__(self):\n",
        "        self.reset()\n",
        "\n",
        "    def reset(self):\n",
        "        self.val = 0\n",
        "        self.avg = 0\n",
        "        self.sum = 0\n",
        "        self.count = 0\n",
        "\n",
        "    def update(self, val, n=1):\n",
        "        self.val = val\n",
        "        self.sum += val * n\n",
        "        self.count += n\n",
        "        self.avg = self.sum / self.count"
      ],
      "metadata": {
        "id": "kMFFq4Jfaf7L"
      },
      "execution_count": null,
      "outputs": []
    },
    {
      "cell_type": "markdown",
      "source": [
        "Here's an easy implementation of dataset:"
      ],
      "metadata": {
        "id": "ALXUvIPTeiQ-"
      }
    },
    {
      "cell_type": "code",
      "source": [
        "class dataset():\n",
        "  def __init__(self, data, label, batch_size) -> None:\n",
        "    self.data = np.expand_dims(data, axis=1)\n",
        "    self.label = label\n",
        "    self.batch_size = batch_size\n",
        "\n",
        "  def __getitem__(self, index):\n",
        "    if index >= len(self):\n",
        "      raise IndexError\n",
        "    lower = index * self.batch_size\n",
        "    higher = min(lower + self.batch_size, self.data.shape[0])\n",
        "    x = np.zeros((self.batch_size, 1, self.data.shape[1], self.data.shape[2]))\n",
        "    y = np.array(self.label[lower:higher])\n",
        "    x = self.data[lower:higher,:]\n",
        "    y = MakeOneHot(y, 10)\n",
        "    return x, y\n",
        "\n",
        "  def __len__(self):\n",
        "    return np.ceil(self.data.shape[0]/self.batch_size).astype(int)"
      ],
      "metadata": {
        "id": "s7WGyFqDUD0-"
      },
      "execution_count": null,
      "outputs": []
    },
    {
      "cell_type": "markdown",
      "source": [
        "# Code up LeNet-5"
      ],
      "metadata": {
        "id": "51UR3KaW1qou"
      }
    },
    {
      "cell_type": "code",
      "source": [
        "class LeNet5():\n",
        "    # Credit to Lecun Yann\n",
        "    def __init__(self):\n",
        "        self.conv1 = Conv(1, 6, 5)\n",
        "        self.ReLU1 = ReLU()\n",
        "        self.pool1 = MaxPool(2)\n",
        "        self.conv2 = Conv(6, 16, 5)\n",
        "        self.ReLU2 = ReLU()\n",
        "        self.pool2 = MaxPool(2)\n",
        "        self.FC1 = FC(16*4*4, 120)\n",
        "        self.ReLU3 = ReLU()\n",
        "        self.FC2 = FC(120, 84)\n",
        "        self.ReLU4 = ReLU()\n",
        "        self.FC3 = FC(84, 10)\n",
        "        self.p2_shape = None\n",
        "\n",
        "    def forward(self, X):\n",
        "        h1 = self.conv1._forward(X)\n",
        "        a1 = self.ReLU1._forward(h1)\n",
        "        p1 = self.pool1._forward(a1)\n",
        "        h2 = self.conv2._forward(p1)\n",
        "        a2 = self.ReLU2._forward(h2)\n",
        "        p2 = self.pool2._forward(a2)\n",
        "        self.p2_shape = p2.shape\n",
        "        fl = p2.reshape(X.shape[0],-1) # Flatten\n",
        "        h3 = self.FC1._forward(fl)\n",
        "        a3 = self.ReLU3._forward(h3)\n",
        "        h4 = self.FC2._forward(a3)\n",
        "        a5 = self.ReLU4._forward(h4)\n",
        "        h5 = self.FC3._forward(a5)\n",
        "        return h5\n",
        "\n",
        "    def backward(self, dout):\n",
        "        dout = self.FC3._backward(dout)\n",
        "        dout = self.ReLU4._backward(dout)\n",
        "        dout = self.FC2._backward(dout)\n",
        "        dout = self.ReLU3._backward(dout)\n",
        "        dout = self.FC1._backward(dout)\n",
        "        dout = dout.reshape(self.p2_shape) # reshape\n",
        "        dout = self.pool2._backward(dout)\n",
        "        dout = self.ReLU2._backward(dout)\n",
        "        dout = self.conv2._backward(dout)\n",
        "        dout = self.pool1._backward(dout)\n",
        "        dout = self.ReLU1._backward(dout)\n",
        "        dout = self.conv1._backward(dout)\n",
        "\n",
        "    def get_params(self):\n",
        "        return [self.conv1.weight, self.conv1.b, self.conv2.weight, self.conv2.b, self.FC1.weight, self.FC1.b, self.FC2.weight, self.FC2.b, self.FC3.weight, self.FC3.b]\n",
        "\n",
        "    def set_params(self, params):\n",
        "        [self.conv1.weight, self.conv1.b, self.conv2.weight, self.conv2.b, self.FC1.weight, self.FC1.b, self.FC2.weight, self.FC2.b, self.FC3.weight, self.FC3.b] = params\n"
      ],
      "metadata": {
        "id": "CbOj46G4DdLU"
      },
      "execution_count": null,
      "outputs": []
    },
    {
      "cell_type": "markdown",
      "source": [
        "# Model training\n",
        "Hyperparams go here:"
      ],
      "metadata": {
        "id": "uC2hlOo7RGhT"
      }
    },
    {
      "cell_type": "code",
      "source": [
        "BATCH_SIZE = 32\n",
        "LR = 0.0001\n",
        "WEIGHT_DECAY = 0.0003\n",
        "EPOCHES = 2"
      ],
      "metadata": {
        "id": "ExAG8TL0RJQ5"
      },
      "execution_count": null,
      "outputs": []
    },
    {
      "cell_type": "code",
      "source": [
        "train_loader = dataset(train_data, train_label, BATCH_SIZE)\n",
        "test_loader = dataset(test_data, test_label, BATCH_SIZE)"
      ],
      "metadata": {
        "id": "W3uwhaARWT-q"
      },
      "execution_count": null,
      "outputs": []
    },
    {
      "cell_type": "code",
      "source": [
        "model = LeNet5()\n",
        "losses = AverageMeter()\n",
        "loss_cache = []\n",
        "optim = SGD(model.get_params(), lr=LR, weight_decay=WEIGHT_DECAY) \n",
        "criterion = CrossEntropyLoss()\n",
        "\n",
        "for epoch in range(EPOCHES):\n",
        "  print(f\"Epoch {epoch}:\\n\")\n",
        "  pbar = tqdm.tqdm(range(len(train_loader))) \n",
        "  for i, (x, y) in enumerate(train_loader):\n",
        "    logit = model.forward(x)\n",
        "    loss, dout = criterion.get(logit, y)\n",
        "    model.backward(dout)\n",
        "    optim.step()\n",
        "\n",
        "    losses.update(loss)\n",
        "    pbar.update()\n",
        "    pbar.set_description(\"loss:{}\".format(losses.avg))\n",
        "    if i % 2 == 0:\n",
        "      loss_cache.append(loss)\n",
        "  pbar.close()\n"
      ],
      "metadata": {
        "colab": {
          "base_uri": "https://localhost:8080/"
        },
        "id": "nbFnNwaR2leb",
        "outputId": "1911d6fd-41a2-4971-ca9f-97029cba5f3f"
      },
      "execution_count": null,
      "outputs": [
        {
          "output_type": "stream",
          "name": "stdout",
          "text": [
            "Epoch 0:\n",
            "\n"
          ]
        },
        {
          "output_type": "stream",
          "name": "stderr",
          "text": [
            "loss:0.9638563985795905: 100%|██████████| 1875/1875 [1:20:44<00:00,  2.58s/it]\n"
          ]
        },
        {
          "output_type": "stream",
          "name": "stdout",
          "text": [
            "Epoch 1:\n",
            "\n"
          ]
        },
        {
          "output_type": "stream",
          "name": "stderr",
          "text": [
            "loss:0.6208537644248767: 100%|██████████| 1875/1875 [1:19:56<00:00,  2.56s/it]\n"
          ]
        }
      ]
    },
    {
      "cell_type": "markdown",
      "source": [
        "# Test result"
      ],
      "metadata": {
        "id": "izbPfWvI9iXp"
      }
    },
    {
      "cell_type": "code",
      "source": [
        "confusion_matrix = np.zeros((10,10),int)\n",
        "for i,(x, y) in enumerate(test_loader):\n",
        "  logit = model.forward(x)\n",
        "  pred = np.argmax(logit, axis=1)\n",
        "  gt = np.argmax(y, axis=1)\n",
        "  for j in range(len(pred)):\n",
        "    confusion_matrix[gt[j]][pred[j]] += 1\n",
        "\n",
        "acc = confusion_matrix.diagonal().sum() / confusion_matrix.sum()\n",
        "print(\"Test accuracy is: {}\".format(acc))\n",
        "print(\"Confusion matrix:\\n\",confusion_matrix)"
      ],
      "metadata": {
        "colab": {
          "base_uri": "https://localhost:8080/"
        },
        "id": "Q9MA1xCKcr9n",
        "outputId": "699adda2-ab66-46ea-99b7-79af063c1270"
      },
      "execution_count": null,
      "outputs": [
        {
          "output_type": "stream",
          "name": "stdout",
          "text": [
            "Test accuracy is: 0.9341\n",
            "Confusion matrix:\n",
            " [[ 962    1    0    1    0    5    8    1    1    1]\n",
            " [   0 1121    2    4    0    3    1    0    3    1]\n",
            " [  17   11  918    6   21    1   10   14   29    5]\n",
            " [   3    3    9  945    1   14    0    4    9   22]\n",
            " [   1    4    3    0  920    0   10    0    2   42]\n",
            " [   8    2    2   23    1  825    7    2    9   13]\n",
            " [  12    4    3    0   12   19  904    0    4    0]\n",
            " [   3   20   36    7    8    1    0  912    2   39]\n",
            " [   3    2    5   18    5   16    3    3  877   42]\n",
            " [  10    4    2   10   10    5    0    7    4  957]]\n"
          ]
        }
      ]
    },
    {
      "cell_type": "markdown",
      "source": [
        "Plot the convergence graph using matplotlib. "
      ],
      "metadata": {
        "id": "YLzcU_pI18mH"
      }
    },
    {
      "cell_type": "code",
      "source": [
        "plt.figure(figsize=(12, 6))\n",
        "plt.subplot(1, 2, 1)\n",
        "\n",
        "plt.plot(range(0, len(loss_cache * 2), 2), loss_cache)\n",
        "plt.xlabel('iteration')\n",
        "plt.ylabel('training loss')\n",
        "\n",
        "plt.subplot(1, 2, 2)\n",
        "plt.plot(range(0, len(loss_cache * 2), 2), np.log(loss_cache))\n",
        "plt.xlabel('iteration')\n",
        "plt.ylabel('log loss')\n",
        "\n",
        "plt.tight_layout()\n",
        "plt.show()"
      ],
      "metadata": {
        "colab": {
          "base_uri": "https://localhost:8080/",
          "height": 441
        },
        "id": "1v9QFIfszwF5",
        "outputId": "756fe655-b574-4db9-fc76-cb43683984e1"
      },
      "execution_count": null,
      "outputs": [
        {
          "output_type": "display_data",
          "data": {
            "text/plain": [
              "<Figure size 864x432 with 2 Axes>"
            ],
            "image/png": "[encoded data removed]"
          },
          "metadata": {
            "needs_background": "light"
          }
        }
      ]
    },
    {
      "cell_type": "code",
      "source": [
        "import seaborn as sns\n",
        "sns.set(rc={'figure.figsize':(9,9)})\n",
        "s = sns.heatmap(confusion_matrix, annot=True, cmap=\"Blues\", fmt=\"d\")\n",
        "s.set(xlabel='Predicted', ylabel='Actual')"
      ],
      "metadata": {
        "colab": {
          "base_uri": "https://localhost:8080/",
          "height": 575
        },
        "id": "qtuBNXC78xx9",
        "outputId": "03a7e687-509d-43dc-beff-ab20d9e13209"
      },
      "execution_count": null,
      "outputs": [
        {
          "output_type": "execute_result",
          "data": {
            "text/plain": [
              "[Text(57.5, 0.5, 'Actual'), Text(0.5, 57.5, 'Predicted')]"
            ]
          },
          "metadata": {},
          "execution_count": 44
        },
        {
          "output_type": "display_data",
          "data": {
            "text/plain": [
              "<Figure size 648x648 with 2 Axes>"
            ],
            "image/png": "[encoded data removed]"
          },
          "metadata": {}
        }
      ]
    }
  ]
}